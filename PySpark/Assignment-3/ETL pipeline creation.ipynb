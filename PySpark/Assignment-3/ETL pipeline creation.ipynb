{
 "cells": [
  {
   "cell_type": "code",
   "execution_count": 0,
   "metadata": {
    "application/vnd.databricks.v1+cell": {
     "cellMetadata": {
      "byteLimit": 2048000,
      "rowLimit": 10000
     },
     "inputWidgets": {},
     "nuid": "27326900-3372-496c-94ed-d9811db0dd3d",
     "showTitle": false,
     "title": ""
    }
   },
   "outputs": [
    {
     "output_type": "execute_result",
     "data": {
      "text/plain": [
       "True"
      ]
     },
     "execution_count": 1,
     "metadata": {},
     "output_type": "execute_result"
    }
   ],
   "source": [
    "dbutils.fs.cp(\"file:/Workspace/Shared/orders.csv\",\"dbfs:/FileStore/orders.csv\")"
   ]
  },
  {
   "cell_type": "code",
   "execution_count": 0,
   "metadata": {
    "application/vnd.databricks.v1+cell": {
     "cellMetadata": {
      "byteLimit": 2048000,
      "rowLimit": 10000
     },
     "inputWidgets": {},
     "nuid": "6a0d61d5-dfd2-4c1a-957f-affc73bd0072",
     "showTitle": false,
     "title": ""
    }
   },
   "outputs": [],
   "source": [
    "orders_df = spark.read.format(\"csv\").option(\"header\", \"true\").option(\"inferSchema\", \"true\").load(\"dbfs:/FileStore/orders.csv\")\n",
    "orders_df.write.format(\"delta\").mode(\"overwrite\").save(\"/delta/orders_converted\")"
   ]
  },
  {
   "cell_type": "code",
   "execution_count": 0,
   "metadata": {
    "application/vnd.databricks.v1+cell": {
     "cellMetadata": {
      "byteLimit": 2048000,
      "rowLimit": 10000
     },
     "inputWidgets": {},
     "nuid": "4c80f8bf-4151-48be-9fb9-92059637b251",
     "showTitle": false,
     "title": ""
    }
   },
   "outputs": [],
   "source": [
    "# Reading the source CSV file into a DataFrame\n",
    "from pyspark.sql.functions import col\n",
    "df_orders = spark.read.format(\"csv\") \\\n",
    "    .option(\"header\", \"true\") \\\n",
    "    .option(\"inferSchema\", \"true\") \\\n",
    "    .load(\"dbfs:/FileStore/orders.csv\")"
   ]
  },
  {
   "cell_type": "code",
   "execution_count": 0,
   "metadata": {
    "application/vnd.databricks.v1+cell": {
     "cellMetadata": {
      "byteLimit": 2048000,
      "rowLimit": 10000
     },
     "inputWidgets": {},
     "nuid": "ea400d7b-0001-413a-b9b7-2588a09689f1",
     "showTitle": false,
     "title": ""
    }
   },
   "outputs": [],
   "source": [
    "# Add a new column 'TotalAmount' by multiplying 'Quantity' and 'Price'\n",
    "df_transformed = df_orders.withColumn(\"TotalAmount\", col(\"Quantity\") * col(\"Price\"))\n",
    "\n",
    "# Filter records where 'Quantity' > 1\n",
    "df_filtered = df_transformed.filter(col(\"Quantity\") > 1)\n",
    "\n",
    "# Write the transformed data to a Delta table with schema evolution enabled\n",
    "df_filtered.write.format(\"delta\") \\\n",
    "    .mode(\"overwrite\") \\\n",
    "    .option(\"mergeSchema\", \"true\") \\\n",
    "    .save(\"/delta/orders_converted\")"
   ]
  },
  {
   "cell_type": "code",
   "execution_count": 0,
   "metadata": {
    "application/vnd.databricks.v1+cell": {
     "cellMetadata": {
      "byteLimit": 2048000,
      "rowLimit": 10000
     },
     "inputWidgets": {},
     "nuid": "de60295b-6a49-4695-abd4-2ad4f01c5969",
     "showTitle": false,
     "title": ""
    }
   },
   "outputs": [],
   "source": [
    "from delta.tables import *\n",
    "delta_table = DeltaTable.forPath(spark, \"/delta/orders_converted\")\n",
    "\n",
    "delta_table.alias(\"tgt\").merge(\n",
    "    df_filtered.alias(\"src\"),\n",
    "    \"tgt.OrderID = src.OrderID\"  \n",
    ").whenMatchedUpdateAll() \\\n",
    " .whenNotMatchedInsertAll() \\\n",
    " .execute()\n"
   ]
  },
  {
   "cell_type": "code",
   "execution_count": 0,
   "metadata": {
    "application/vnd.databricks.v1+cell": {
     "cellMetadata": {},
     "inputWidgets": {},
     "nuid": "c8344253-627e-4ba1-a0db-03beabefdc30",
     "showTitle": false,
     "title": ""
    }
   },
   "outputs": [],
   "source": [
    "%sql\n",
    "\n",
    "CREATE OR REFRESH LIVE TABLE orders_raw\n",
    "AS SELECT * FROM cloud_files('dbfs:/FileStore/orders.csv', 'csv', \n",
    "    map('header', 'true', 'inferSchema', 'true'));"
   ]
  },
  {
   "cell_type": "code",
   "execution_count": 0,
   "metadata": {
    "application/vnd.databricks.v1+cell": {
     "cellMetadata": {},
     "inputWidgets": {},
     "nuid": "756c5289-b0f5-42bf-acac-35e8ce0bb679",
     "showTitle": false,
     "title": ""
    }
   },
   "outputs": [],
   "source": [
    "%sql\n",
    "CREATE OR REFRESH LIVE TABLE orders_transformed\n",
    "AS\n",
    "SELECT \n",
    "  OrderID,\n",
    "  OrderDate,\n",
    "  CustomerID,\n",
    "  Product,\n",
    "  Quantity,\n",
    "  Price,\n",
    "  (Quantity * Price) AS TotalAmount\n",
    "FROM LIVE.orders_raw\n",
    "WHERE Quantity > 1;"
   ]
  },
  {
   "cell_type": "code",
   "execution_count": 0,
   "metadata": {
    "application/vnd.databricks.v1+cell": {
     "cellMetadata": {},
     "inputWidgets": {},
     "nuid": "13009a97-0861-4732-a604-d6a5b118dc1c",
     "showTitle": false,
     "title": ""
    }
   },
   "outputs": [],
   "source": [
    "%sql\n",
    "\n",
    "CREATE OR REFRESH LIVE TABLE orders_incremental\n",
    "AS\n",
    "MERGE INTO orders_final tgt\n",
    "USING LIVE.orders_transformed src\n",
    "ON tgt.OrderID = src.OrderID\n",
    "WHEN MATCHED THEN \n",
    "  UPDATE SET *\n",
    "WHEN NOT MATCHED THEN \n",
    "  INSERT *;"
   ]
  },
  {
   "cell_type": "code",
   "execution_count": 0,
   "metadata": {
    "application/vnd.databricks.v1+cell": {
     "cellMetadata": {},
     "inputWidgets": {},
     "nuid": "8c5a54be-de96-45ce-b2e6-1f2f9b8c3bdf",
     "showTitle": false,
     "title": ""
    }
   },
   "outputs": [],
   "source": [
    "%sql\n",
    "-- Read data from the Delta table\n",
    "SELECT * FROM orders_final;\n"
   ]
  },
  {
   "cell_type": "code",
   "execution_count": 0,
   "metadata": {
    "application/vnd.databricks.v1+cell": {
     "cellMetadata": {
      "byteLimit": 2048000,
      "rowLimit": 10000
     },
     "inputWidgets": {},
     "nuid": "cd94143b-9293-4c35-8eb4-08e2552605a4",
     "showTitle": false,
     "title": ""
    }
   },
   "outputs": [
    {
     "output_type": "stream",
     "name": "stdout",
     "output_type": "stream",
     "text": [
      "+-------+----------+----------+-------+--------+-----+-----------+\n|OrderID| OrderDate|CustomerID|Product|Quantity|Price|TotalAmount|\n+-------+----------+----------+-------+--------+-----+-----------+\n|    101|2024-01-01|      C001| Laptop|       2| 1000|       2000|\n|    103|2024-01-03|      C003| Tablet|       3|  300|        900|\n|    105|2024-01-05|      C005|  Mouse|       5|   20|        100|\n+-------+----------+----------+-------+--------+-----+-----------+\n\n"
     ]
    }
   ],
   "source": [
    "# Read data from the Delta table\n",
    "df_orders = spark.read.format(\"delta\").load(\"/delta/orders_converted\")\n",
    "df_orders.show()"
   ]
  },
  {
   "cell_type": "code",
   "execution_count": 0,
   "metadata": {
    "application/vnd.databricks.v1+cell": {
     "cellMetadata": {},
     "inputWidgets": {},
     "nuid": "be0e290c-6c0a-4501-b464-b4dc86946288",
     "showTitle": false,
     "title": ""
    }
   },
   "outputs": [],
   "source": [
    "%sql\n",
    "-- Update the price of laptops by 10%\n",
    "\n",
    "UPDATE orders_final\n",
    "SET Price = Price * 1.10\n",
    "WHERE Product = 'Laptop';\n"
   ]
  },
  {
   "cell_type": "code",
   "execution_count": 0,
   "metadata": {
    "application/vnd.databricks.v1+cell": {
     "cellMetadata": {},
     "inputWidgets": {},
     "nuid": "f54ea828-beb1-4700-a25e-f64525b52419",
     "showTitle": false,
     "title": ""
    }
   },
   "outputs": [],
   "source": [
    "%sql\n",
    "DELETE FROM orders_final\n",
    "WHERE Quantity < 2;\n"
   ]
  },
  {
   "cell_type": "code",
   "execution_count": 0,
   "metadata": {
    "application/vnd.databricks.v1+cell": {
     "cellMetadata": {},
     "inputWidgets": {},
     "nuid": "ed2e4ac7-d329-4c8e-86eb-461af6fec38c",
     "showTitle": false,
     "title": ""
    }
   },
   "outputs": [],
   "source": [
    "%sql\n",
    "INSERT INTO orders_final (OrderID, OrderDate, CustomerID, Product, Quantity, Price, TotalAmount)\n",
    "VALUES (106, '2024-01-06', 'C006', 'Keyboard', 3, 100, 300);"
   ]
  },
  {
   "cell_type": "code",
   "execution_count": 0,
   "metadata": {
    "application/vnd.databricks.v1+cell": {
     "cellMetadata": {},
     "inputWidgets": {},
     "nuid": "d2b104b4-b04b-45e6-9d7a-731f09820f34",
     "showTitle": false,
     "title": ""
    }
   },
   "outputs": [],
   "source": [
    "%sql\n",
    "CREATE OR REPLACE TEMP VIEW updated_orders AS\n",
    "SELECT * FROM VALUES\n",
    "    (101, '2024-01-10', 'C001', 'Laptop', 2, 1200),\n",
    "    (106, '2024-01-12', 'C006', 'Keyboard', 3, 50)\n",
    "    AS t(OrderID, OrderDate, CustomerID, Product, Quantity, Price);\n",
    "\n",
    "MERGE INTO orders_final tgt\n",
    "USING updated_orders src\n",
    "ON tgt.OrderID = src.OrderID\n",
    "WHEN MATCHED THEN \n",
    "  UPDATE SET \n",
    "    tgt.Quantity = src.Quantity,\n",
    "    tgt.Price = src.Price,\n",
    "    tgt.TotalAmount = src.Quantity * src.Price\n",
    "WHEN NOT MATCHED THEN \n",
    "  INSERT (OrderID, OrderDate, CustomerID, Product, Quantity, Price, TotalAmount)\n",
    "  VALUES (src.OrderID, src.OrderDate, src.CustomerID, src.Product, src.Quantity, src.Price, src.Quantity * src.Price);\n",
    "\n"
   ]
  },
  {
   "cell_type": "code",
   "execution_count": 0,
   "metadata": {
    "application/vnd.databricks.v1+cell": {
     "cellMetadata": {},
     "inputWidgets": {},
     "nuid": "cd0d61ae-9062-4f9c-b6d2-5f1eab5d0c11",
     "showTitle": false,
     "title": ""
    }
   },
   "outputs": [],
   "source": [
    "spark.sql(\"DESCRIBE HISTORY orders_final\");\n"
   ]
  },
  {
   "cell_type": "code",
   "execution_count": 0,
   "metadata": {
    "application/vnd.databricks.v1+cell": {
     "cellMetadata": {},
     "inputWidgets": {},
     "nuid": "b917963a-af40-4af8-9c2a-c2172a0c005d",
     "showTitle": false,
     "title": ""
    }
   },
   "outputs": [],
   "source": [
    "%sql\n",
    "--Time Travel Using Version Number\n",
    "SELECT * FROM orders_final VERSION AS OF 1;"
   ]
  },
  {
   "cell_type": "code",
   "execution_count": 0,
   "metadata": {
    "application/vnd.databricks.v1+cell": {
     "cellMetadata": {},
     "inputWidgets": {},
     "nuid": "4c54ea59-2776-439d-8cbd-91f7391bf124",
     "showTitle": false,
     "title": ""
    }
   },
   "outputs": [],
   "source": [
    "%sql\n",
    "--Optimize the Delta table using Z-Ordering on the Product column\n",
    "OPTIMIZE orders_final\n",
    "ZORDER BY (Product);"
   ]
  },
  {
   "cell_type": "code",
   "execution_count": 0,
   "metadata": {
    "application/vnd.databricks.v1+cell": {
     "cellMetadata": {
      "byteLimit": 2048000,
      "rowLimit": 10000
     },
     "inputWidgets": {},
     "nuid": "c110f7f3-14c1-4b97-95e0-ed37a1e25582",
     "showTitle": false,
     "title": ""
    }
   },
   "outputs": [
    {
     "output_type": "execute_result",
     "data": {
      "text/plain": [
       "True"
      ]
     },
     "execution_count": 12,
     "metadata": {},
     "output_type": "execute_result"
    }
   ],
   "source": [
    "dbutils.fs.cp(\"file:/Workspace/Shared/orders.parquet\",\"dbfs:/FileStore/orders.parquet\")"
   ]
  },
  {
   "cell_type": "code",
   "execution_count": 0,
   "metadata": {
    "application/vnd.databricks.v1+cell": {
     "cellMetadata": {
      "byteLimit": 2048000,
      "rowLimit": 10000
     },
     "inputWidgets": {},
     "nuid": "f8c61c90-78ab-4b40-8cfd-22fa6ae798bc",
     "showTitle": false,
     "title": ""
    }
   },
   "outputs": [
    {
     "output_type": "display_data",
     "data": {
      "text/html": [
       "<style scoped>\n",
       "  .table-result-container {\n",
       "    max-height: 300px;\n",
       "    overflow: auto;\n",
       "  }\n",
       "  table, th, td {\n",
       "    border: 1px solid black;\n",
       "    border-collapse: collapse;\n",
       "  }\n",
       "  th, td {\n",
       "    padding: 5px;\n",
       "  }\n",
       "  th {\n",
       "    text-align: left;\n",
       "  }\n",
       "</style><div class='table-result-container'><table class='table-result'><thead style='background-color: white'><tr><th>OrderID</th><th>OrderDate</th><th>CustomerID</th><th>Product</th><th>Quantity</th><th>Price</th></tr></thead><tbody><tr><td>101</td><td>2024-01-01</td><td>C001</td><td>Laptop</td><td>2</td><td>1000</td></tr><tr><td>102</td><td>2024-01-02</td><td>C002</td><td>Phone</td><td>1</td><td>500</td></tr><tr><td>103</td><td>2024-01-03</td><td>C003</td><td>Tablet</td><td>3</td><td>300</td></tr><tr><td>104</td><td>2024-01-04</td><td>C004</td><td>Monitor</td><td>1</td><td>150</td></tr><tr><td>105</td><td>2024-01-05</td><td>C005</td><td>Mouse</td><td>5</td><td>20</td></tr></tbody></table></div>"
      ]
     },
     "metadata": {
      "application/vnd.databricks.v1+output": {
       "addedWidgets": {},
       "aggData": [],
       "aggError": "",
       "aggOverflow": false,
       "aggSchema": [],
       "aggSeriesLimitReached": false,
       "aggType": "",
       "arguments": {},
       "columnCustomDisplayInfos": {},
       "data": [
        [
         "101",
         "2024-01-01",
         "C001",
         "Laptop",
         "2",
         "1000"
        ],
        [
         "102",
         "2024-01-02",
         "C002",
         "Phone",
         "1",
         "500"
        ],
        [
         "103",
         "2024-01-03",
         "C003",
         "Tablet",
         "3",
         "300"
        ],
        [
         "104",
         "2024-01-04",
         "C004",
         "Monitor",
         "1",
         "150"
        ],
        [
         "105",
         "2024-01-05",
         "C005",
         "Mouse",
         "5",
         "20"
        ]
       ],
       "datasetInfos": [],
       "dbfsResultPath": null,
       "isJsonSchema": true,
       "metadata": {},
       "overflow": false,
       "plotOptions": {
        "customPlotOptions": {},
        "displayType": "table",
        "pivotAggregation": null,
        "pivotColumns": null,
        "xColumns": null,
        "yColumns": null
       },
       "removedWidgets": [],
       "schema": [
        {
         "metadata": "{}",
         "name": "OrderID",
         "type": "\"string\""
        },
        {
         "metadata": "{}",
         "name": "OrderDate",
         "type": "\"string\""
        },
        {
         "metadata": "{}",
         "name": "CustomerID",
         "type": "\"string\""
        },
        {
         "metadata": "{}",
         "name": "Product",
         "type": "\"string\""
        },
        {
         "metadata": "{}",
         "name": "Quantity",
         "type": "\"string\""
        },
        {
         "metadata": "{}",
         "name": "Price",
         "type": "\"string\""
        }
       ],
       "type": "table"
      }
     },
     "output_type": "display_data"
    }
   ],
   "source": [
    "csv_df = spark.read.format(\"csv\").option(\"header\", \"true\").load(\"dbfs:/FileStore/orders.csv\")\n",
    "csv_df.write.format(\"parquet\").mode(\"overwrite\").save(\"dbfs:/FileStore/orders.parquet\")\n",
    "parquet_df = spark.read.format(\"parquet\").load(\"dbfs:/FileStore/orders.parquet\")\n",
    "parquet_df.write.format(\"delta\").mode(\"overwrite\").save(\"/delta/parquet_files\")\n",
    "delta_df = spark.read.format(\"delta\").load(\"/delta/parquet_files\")\n",
    "display(delta_df)"
   ]
  }
 ],
 "metadata": {
  "application/vnd.databricks.v1+notebook": {
   "dashboards": [],
   "environmentMetadata": null,
   "language": "python",
   "notebookMetadata": {
    "mostRecentlyExecutedCommandWithImplicitDF": {
     "commandId": 652365119865190,
     "dataframes": [
      "_sqldf"
     ]
    },
    "pythonIndentUnit": 4
   },
   "notebookName": "ETL pipeline creation",
   "widgets": {}
  }
 },
 "nbformat": 4,
 "nbformat_minor": 0
}
